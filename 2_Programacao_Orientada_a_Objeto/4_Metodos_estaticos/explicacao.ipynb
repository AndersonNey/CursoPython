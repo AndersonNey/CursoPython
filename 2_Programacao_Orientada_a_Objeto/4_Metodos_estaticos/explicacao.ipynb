{
 "cells": [
  {
   "cell_type": "markdown",
   "metadata": {},
   "source": [
    "Um método estático é um método que pode ser chamado sem a instancia da classe."
   ]
  },
  {
   "cell_type": "code",
   "execution_count": null,
   "metadata": {},
   "outputs": [],
   "source": [
    "class MyClass(object):\n",
    "    @staticmethod\n",
    "    def the_static_method(x):\n",
    "        print(x)\n",
    "\n",
    "MyClass.the_static_method(2)"
   ]
  },
  {
   "cell_type": "markdown",
   "metadata": {},
   "source": [
    "É útil para se fazer operações dentro da classe, como uma função de calculo de área por exemplo. Você pode ter a classe Circulo e métodos que pode ser chamados sem precisar de instancia, pois o objetivo é o calculo:"
   ]
  },
  {
   "cell_type": "code",
   "execution_count": 4,
   "metadata": {},
   "outputs": [
    {
     "name": "stdout",
     "output_type": "stream",
     "text": [
      "201.06192982974676\n",
      "201.06192982974676\n"
     ]
    }
   ],
   "source": [
    "from math import pi\n",
    "from unittest import result\n",
    "\n",
    "class Pizza(object):\n",
    "    def __init__(self, radius, height):\n",
    "        self.radius = radius\n",
    "        self.height = height\n",
    "\n",
    "    @staticmethod\n",
    "    def compute_area(radius):\n",
    "         return pi * (radius ** 2)\n",
    "\n",
    "    @classmethod\n",
    "    def compute_volume(cls, height, radius):\n",
    "         return height * cls.compute_area(radius)\n",
    "\n",
    "    def get_volume(self):\n",
    "        return self.compute_volume(self.height, self.radius)\n",
    "\n",
    "\n",
    "area = Pizza.compute_area(8)\n",
    "print(area)\n",
    "\n",
    "novo_pizza = Pizza(8,3)\n",
    "\n",
    "area = Pizza.compute_area(novo_pizza.radius)\n",
    "print(area)\n"
   ]
  }
 ],
 "metadata": {
  "kernelspec": {
   "display_name": "Python 3.10.4 64-bit",
   "language": "python",
   "name": "python3"
  },
  "language_info": {
   "codemirror_mode": {
    "name": "ipython",
    "version": 3
   },
   "file_extension": ".py",
   "mimetype": "text/x-python",
   "name": "python",
   "nbconvert_exporter": "python",
   "pygments_lexer": "ipython3",
   "version": "3.10.4"
  },
  "orig_nbformat": 4,
  "vscode": {
   "interpreter": {
    "hash": "f9c565b50559439592bc51703a0e19eb0bf2ea7887eb13200acf46165985ef4e"
   }
  }
 },
 "nbformat": 4,
 "nbformat_minor": 2
}
