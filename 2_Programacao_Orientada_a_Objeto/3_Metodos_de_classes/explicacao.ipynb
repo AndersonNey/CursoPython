{
 "cells": [
  {
   "cell_type": "markdown",
   "metadata": {},
   "source": [
    "Você entendeu a instancia, certo? pessoa1, pessoa2, etc... Os métodos de classe são métodos da classe e não da instância, quer dizer que eles não tem acesso aos dados da instância."
   ]
  },
  {
   "cell_type": "code",
   "execution_count": null,
   "metadata": {},
   "outputs": [],
   "source": [
    "class Pessoa:\n",
    "    def __init__(self, nome, sobrenome):\n",
    "        self.nome = nome\n",
    "        self.sobrenome = sobrenome\n",
    " \n",
    "    @classmethod\n",
    "    def fala_nome(self):\n",
    "        print(self.nome)\n",
    " \n",
    " \n",
    "p1 = Pessoa('Luiz', 'Otávio')\n",
    "p1.fala_nome()  # AttributeError: type object 'Pessoa' has no attribute 'nome'"
   ]
  },
  {
   "cell_type": "markdown",
   "metadata": {},
   "source": [
    "Um caso onde julgo útil ter um método de classe é para gerar um novo objeto da classe, por exemplo:"
   ]
  },
  {
   "cell_type": "code",
   "execution_count": null,
   "metadata": {},
   "outputs": [],
   "source": [
    "class Pessoa:\n",
    "    def __init__(self, nome, sobrenome):\n",
    "        self.nome = nome\n",
    "        self.sobrenome = sobrenome\n",
    " \n",
    "    @classmethod\n",
    "    def cria_pessoa(cls, nome, sobrenome):\n",
    "        return cls(nome, sobrenome)\n",
    " \n",
    " \n",
    "p1 = Pessoa.cria_pessoa('Luiz', 'Otávio')\n",
    "p2 = Pessoa.cria_pessoa('João', 'Oliveira')\n",
    " \n",
    "print(p1.nome, p1.sobrenome)  # Luiz Otávio\n",
    "print(p2.nome, p2.sobrenome)  # João Oliveira"
   ]
  },
  {
   "cell_type": "markdown",
   "metadata": {},
   "source": [
    "Os métodos de classe só tem acesso à classe em si (nada das instâncias) então, ao invés de \"self\" (que se refere à instancia), usamos \"cls\" (que se refere à classe em si).\n",
    "\n",
    "Geralmente, em 99.9% dos casos você vai trabalhar com métodos de instância. Você vai usar métodos de classe em cenários muito específicos, como o que eu te demonstrei anteriormente, gerar um novo objeto da classe por alguma razão específica.\n",
    "\n",
    "Imagine isso como sendo um molde (classe) e um objeto gerado a partir do molde. Ex.: cookies (veja imagem abaixo)."
   ]
  },
  {
   "cell_type": "markdown",
   "metadata": {},
   "source": [
    "AQUI É A IMAGEM"
   ]
  },
  {
   "cell_type": "markdown",
   "metadata": {},
   "source": [
    "Tudo o que é ligado à classe pode ser adicionado em um classmethod, tudo o que é ligado ao objeto (instância) deve ser adicionado a um método de instância.\n",
    "\n",
    "Imagine que cada um desses cookies tem um nome (claramente isso é de instância)."
   ]
  },
  {
   "cell_type": "code",
   "execution_count": null,
   "metadata": {},
   "outputs": [],
   "source": [
    "class Cookie:\n",
    "    def __init__(self, nome):\n",
    "        self.nome = nome  # instância\n",
    " \n",
    "    def fala_nome(self):\n",
    "        # Aqui eu vou precisar do nome da instância\n",
    "        # portanto método de instância\n",
    "        print(f'O nome do cookie é: {self.nome}')\n",
    " \n",
    "    @classmethod\n",
    "    def cria_cookie(cls):\n",
    "        # Isso retorna a própria classe já criando\n",
    "        # uma instância\n",
    "        return cls(nome='Sem nome')\n",
    " \n",
    " \n",
    "c1 = Cookie('Gato 1')\n",
    "c1.fala_nome()  # O nome do cookie é: Gato 1\n",
    " \n",
    "# Se, por algum motivo, eu precisar criar um objeto\n",
    "# sem nome, eu posso utilizar meu método de classe\n",
    "# isso é apenas um exemplo bobo\n",
    "c2 = Cookie.cria_cookie()\n",
    "c2.fala_nome()  # O nome do cookie é: Sem nome"
   ]
  },
  {
   "cell_type": "markdown",
   "metadata": {},
   "source": [
    "Tem mais uma coisa faltando... falamos dos métodos de classe e de instância... mas também tem os métodos estáticos, esses não tem acesso nem à classe e nem à instancia. São basicamente funções que por algum motivo vivem dentro da classe (talvez por organização).\n",
    "\n",
    "Então segue a regrinha:\n",
    "\n",
    "1 - Se precisar usar a palavra self dentro do método: tem de ser método de instância\n",
    "2 - Se precisar usar a classe em si dentro do método (cls) tem de ser método de classe\n",
    "3 - Se não precisar nem de self e nem de cls dentro do método, pode ser um método estático."
   ]
  },
  {
   "cell_type": "markdown",
   "metadata": {},
   "source": [
    "MEU EXEMPLO"
   ]
  },
  {
   "cell_type": "code",
   "execution_count": null,
   "metadata": {},
   "outputs": [],
   "source": [
    "\n",
    "class Pessoa:\n",
    "    def __init__(self, nome, idade):\n",
    "        self.nome = nome\n",
    "        self.idade = idade\n",
    "\n",
    "        valor = 10\n",
    " \n",
    "    @classmethod\n",
    "    def nova_pessoa_anonima(cls):\n",
    "        return cls(nome='Sem nome',idade='sem idade')\n",
    " \n",
    " \n",
    "\n",
    "\n",
    "c1 = Pessoa('Joao',17)\n",
    "\n",
    "print(c1.nome)\n",
    "print(c1.idade)\n",
    " \n",
    "c2 = Pessoa.nova_pessoa_anonima()\n",
    "\n",
    "print(c2.nome)\n",
    "print(c2.idade)\n",
    "\n"
   ]
  }
 ],
 "metadata": {
  "kernelspec": {
   "display_name": "Python 3.10.4 ('Ambiente_Virtual': venv)",
   "language": "python",
   "name": "python3"
  },
  "language_info": {
   "codemirror_mode": {
    "name": "ipython",
    "version": 3
   },
   "file_extension": ".py",
   "mimetype": "text/x-python",
   "name": "python",
   "nbconvert_exporter": "python",
   "pygments_lexer": "ipython3",
   "version": "3.10.4"
  },
  "orig_nbformat": 4,
  "vscode": {
   "interpreter": {
    "hash": "5a35d53711fd0fa589a671fb88f6aa42c0f3c3c3a98efe04d2b5ac9beb08d186"
   }
  }
 },
 "nbformat": 4,
 "nbformat_minor": 2
}
