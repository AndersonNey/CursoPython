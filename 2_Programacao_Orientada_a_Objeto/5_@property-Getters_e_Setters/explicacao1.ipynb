{
 "cells": [
  {
   "cell_type": "markdown",
   "metadata": {},
   "source": [
    "Otimas explicaçoes \n",
    "\n",
    "\n",
    "https://pt.stackoverflow.com/questions/186982/jeito-pythonico-de-definir-setters-e-getters/187187#187187\n",
    "\n",
    "https://pt.stackoverflow.com/questions/364596/defini%C3%A7%C3%A3o-e-uso-do-property\n",
    "\n",
    "https://dirtsimple.org/2004/12/python-is-not-java.html"
   ]
  },
  {
   "cell_type": "code",
   "execution_count": 3,
   "metadata": {},
   "outputs": [
    {
     "name": "stdout",
     "output_type": "stream",
     "text": [
      "nome qualquer\n"
     ]
    }
   ],
   "source": [
    "class Pessoa:\n",
    "\n",
    "    def nome(self):\n",
    "        return 'nome qualquer'\n",
    "\n",
    "\n",
    "p1 = Pessoa()\n",
    "\n",
    "print(p1.nome())   # perceba que usei ()"
   ]
  },
  {
   "cell_type": "code",
   "execution_count": 6,
   "metadata": {},
   "outputs": [
    {
     "name": "stdout",
     "output_type": "stream",
     "text": [
      "nome qualquer\n"
     ]
    }
   ],
   "source": [
    "class Pessoa:\n",
    "    \n",
    "    @property               #indica para o python que a funcao sera um atributo\n",
    "    def nome(self):\n",
    "        return 'nome qualquer'\n",
    "     \n",
    "\n",
    "p1 = Pessoa()\n",
    "\n",
    "print(p1.nome)       # perceba que nao usei (), mas usei o @property"
   ]
  },
  {
   "cell_type": "code",
   "execution_count": 11,
   "metadata": {},
   "outputs": [
    {
     "name": "stdout",
     "output_type": "stream",
     "text": [
      "inicial\n",
      "nome qualquer\n",
      "carro\n",
      "nome qualquer\n"
     ]
    }
   ],
   "source": [
    "class Pessoa:\n",
    "\n",
    "    def __init__(self) -> None:\n",
    "        self.atributo = 'inicial'\n",
    "    \n",
    "    @property               #indica para o python que a funcao sera um atributo\n",
    "    def nome(self):\n",
    "        return 'nome qualquer'\n",
    "    \n",
    "    @nome.setter\n",
    "    def nome(self,valor):\n",
    "        self.atributo = valor \n",
    "\n",
    "\n",
    "p1 = Pessoa()\n",
    "print(p1.atributo)\n",
    "print(p1.nome)\n",
    "p1.nome = 'carro'\n",
    "print(p1.atributo)\n",
    "print(p1.nome)"
   ]
  }
 ],
 "metadata": {
  "kernelspec": {
   "display_name": "Python 3.10.4 ('Ambiente_Virtual': venv)",
   "language": "python",
   "name": "python3"
  },
  "language_info": {
   "codemirror_mode": {
    "name": "ipython",
    "version": 3
   },
   "file_extension": ".py",
   "mimetype": "text/x-python",
   "name": "python",
   "nbconvert_exporter": "python",
   "pygments_lexer": "ipython3",
   "version": "3.10.4"
  },
  "orig_nbformat": 4,
  "vscode": {
   "interpreter": {
    "hash": "5a35d53711fd0fa589a671fb88f6aa42c0f3c3c3a98efe04d2b5ac9beb08d186"
   }
  }
 },
 "nbformat": 4,
 "nbformat_minor": 2
}
