{
 "cells": [
  {
   "cell_type": "markdown",
   "metadata": {},
   "source": [
    "FORMA DE CHAMA UM METODO DE FORMA NÃO MUITO USUAL,MAS QUE TAMBEM FUNCIONA É BOM SABER                  OBSERVAR AS LINHAS (7, 8)   LINHA(16)"
   ]
  },
  {
   "cell_type": "code",
   "execution_count": 2,
   "metadata": {},
   "outputs": [
    {
     "name": "stdout",
     "output_type": "stream",
     "text": [
      "Carlos\n",
      "Henrique\n",
      "Seja Bem - Vindo Carlos , Henrique\n"
     ]
    }
   ],
   "source": [
    " class Pessoa():\n",
    "\n",
    "    def __init__(self,NOME, SOBRENOME):\n",
    "        self.nome= NOME\n",
    "        self.sobrenome=SOBRENOME\n",
    "\n",
    "    def apresentacao(x):\n",
    "        return f'Seja Bem - Vindo {x.nome} , {x.sobrenome}'\n",
    "\n",
    "\n",
    "p1 = Pessoa('Carlos','Henrique')\n",
    "\n",
    "print(p1.nome)\n",
    "print(p1.sobrenome)\n",
    "\n",
    "coleta = Pessoa.apresentacao(p1)\n",
    "\n",
    "print(coleta)\n"
   ]
  },
  {
   "cell_type": "markdown",
   "metadata": {},
   "source": [
    "MESMO CODIGO SO QUE COM A DIFERENÇA DE USA O METODO DE FORMA MAIS USUAL                                  OBSERVAR AS LINHAS (7, 8)   LINHA(16)"
   ]
  },
  {
   "cell_type": "code",
   "execution_count": 3,
   "metadata": {},
   "outputs": [
    {
     "name": "stdout",
     "output_type": "stream",
     "text": [
      "Carlos\n",
      "Henrique\n",
      "Seja Bem - Vindo Carlos , Henrique\n"
     ]
    }
   ],
   "source": [
    "class Pessoa():\n",
    "\n",
    "    def __init__(self,NOME, SOBRENOME):\n",
    "        self.nome= NOME\n",
    "        self.sobrenome=SOBRENOME\n",
    "\n",
    "    def apresentacao(self):\n",
    "        return f'Seja Bem - Vindo {self.nome} , {self.sobrenome}'\n",
    "\n",
    "\n",
    "p1 = Pessoa('Carlos','Henrique')\n",
    "\n",
    "print(p1.nome)\n",
    "print(p1.sobrenome)\n",
    "\n",
    "coleta = p1.apresentacao()\n",
    "\n",
    "print(coleta)"
   ]
  }
 ],
 "metadata": {
  "kernelspec": {
   "display_name": "Python 3.10.4 ('Ambiente_Virtual': venv)",
   "language": "python",
   "name": "python3"
  },
  "language_info": {
   "codemirror_mode": {
    "name": "ipython",
    "version": 3
   },
   "file_extension": ".py",
   "mimetype": "text/x-python",
   "name": "python",
   "nbconvert_exporter": "python",
   "pygments_lexer": "ipython3",
   "version": "3.10.4"
  },
  "orig_nbformat": 4,
  "vscode": {
   "interpreter": {
    "hash": "5a35d53711fd0fa589a671fb88f6aa42c0f3c3c3a98efe04d2b5ac9beb08d186"
   }
  }
 },
 "nbformat": 4,
 "nbformat_minor": 2
}
