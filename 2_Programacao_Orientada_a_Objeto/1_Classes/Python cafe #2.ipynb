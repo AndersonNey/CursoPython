{
 "cells": [
  {
   "cell_type": "code",
   "execution_count": 4,
   "metadata": {},
   "outputs": [
    {
     "name": "stdout",
     "output_type": "stream",
     "text": [
      "<__main__.Fracao object at 0x000001FA6A81BC10>\n",
      "-8\n",
      "35\n",
      "18\n",
      "35\n",
      "<__main__.Fracao object at 0x000001FA6A81A9E0>\n"
     ]
    }
   ],
   "source": [
    "#atributos\n",
    "#1.numerador ; 2.denominador\n",
    "\n",
    "#metodos\n",
    "#somar ; subtrair ; multplicar ; dividir ; inverter ; negar ; simplificar \n",
    "\n",
    "\n",
    "class Fracao:\n",
    "\n",
    "    def __init__(self,num,den):\n",
    "        self.numerador = num\n",
    "        if den == 0:\n",
    "            self.denominador = 1\n",
    "        else:\n",
    "            self.denominador = den\n",
    "\n",
    "    def somar(self,outra_fracao):\n",
    "        if self.denominador == outra_fracao.denominador:\n",
    "            num = self.numerador + outra_fracao.numerador\n",
    "            den = self.denominador                            # aqui tanto faz se self.denominador ou outra_fracao.denominador o que importa é o de baixo continuar o mesmo\n",
    "            return Fracao(num,den)\n",
    "        num =self.numerador * outra_fracao.denominador + outra_fracao.numerador *self.denominador\n",
    "        den = self.denominador * outra_fracao.denominador\n",
    "        return Fracao(num,den)\n",
    "\n",
    "    def subtrair(self,outra_fracao):\n",
    "        return self.somar(outra_fracao.negar())\n",
    "\n",
    "    def multiplicar(self,outra_fracao):\n",
    "        num = (self.numerador * outra_fracao.numerador )\n",
    "        den = (self.denominador * outra_fracao.denominador)\n",
    "        return Fracao(num , den)\n",
    "\n",
    "    def dividir(self,outra_fracao):\n",
    "        return self.multiplicar( outra_fracao.inverter())\n",
    "    \n",
    "    def inverter(self):    #o self vai a referencia para o prprio objeto que chamou o metodo\n",
    "        return Fracao(self.denominador , self.numerador)      # chamando a propria classe para retonar uma nova fracao com os valores invertidos \n",
    "\n",
    "    def negar(self):\n",
    "        return Fracao(-self.numerador,self.denominador)    # observe que para negar a fracao uso apenas um sinal negativo\n",
    "\n",
    "    def simplificar(self):\n",
    "        pass\n",
    "\n",
    "\n",
    "a = Fracao(4,5)\n",
    "b = Fracao.inverter(a)  #seria necessario colocar o 'a' se eu nao tivesse colocado self , eu acho \n",
    "c = a.inverter()\n",
    "\n",
    "print(c)\n",
    "\n",
    "d = Fracao(4,5)\n",
    "e = Fracao(-2,7)\n",
    "\n",
    "f = d.multiplicar(e)\n",
    "\n",
    "print(f.numerador)\n",
    "print(f.denominador)\n",
    "\n",
    "g = d.somar(e)\n",
    "\n",
    "print(g.numerador)\n",
    "print(g.denominador)\n",
    "\n",
    "h = d.dividir(e)\n",
    "\n",
    "print(h)"
   ]
  }
 ],
 "metadata": {
  "kernelspec": {
   "display_name": "Python 3.10.4 ('Ambiente_Virtual': venv)",
   "language": "python",
   "name": "python3"
  },
  "language_info": {
   "codemirror_mode": {
    "name": "ipython",
    "version": 3
   },
   "file_extension": ".py",
   "mimetype": "text/x-python",
   "name": "python",
   "nbconvert_exporter": "python",
   "pygments_lexer": "ipython3",
   "version": "3.10.4"
  },
  "orig_nbformat": 4,
  "vscode": {
   "interpreter": {
    "hash": "5a35d53711fd0fa589a671fb88f6aa42c0f3c3c3a98efe04d2b5ac9beb08d186"
   }
  }
 },
 "nbformat": 4,
 "nbformat_minor": 2
}
