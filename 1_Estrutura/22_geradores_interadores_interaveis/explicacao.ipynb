{
 "cells": [
  {
   "cell_type": "markdown",
   "metadata": {},
   "source": [
    "https://www.udemy.com/course/python-3-do-zero-ao-avancado/learn/lecture/15466726#questions/12596370\n",
    "Iteráveis x Geradores x Iteradores"
   ]
  },
  {
   "cell_type": "markdown",
   "metadata": {},
   "source": [
    "Iteráveis - Qualquer elemento que possa ser iterado. Por \"ser iterado\" quero dizer, que possa retornar um elemento por vez... Exemplos de iteráveis: listas e strings.\n",
    "\n",
    "Por exemplo: dada a string \"LUIZ\", se eu fizer um for nessa string ela é capaz de retornar um elemento por vez (uma letra por vez):"
   ]
  },
  {
   "cell_type": "code",
   "execution_count": null,
   "metadata": {},
   "outputs": [],
   "source": [
    "# a string é um iterável\n",
    "string = 'LUIZ'\n",
    " \n",
    "# o for usa o iterador padrão da string para obter um item por vez\n",
    "for letra in string:\n",
    "    print(letra)\n",
    " \n",
    "\"\"\"\n",
    "A saída será:\n",
    "L\n",
    "U\n",
    "I\n",
    "Z\n",
    "\"\"\"\n"
   ]
  },
  {
   "cell_type": "markdown",
   "metadata": {},
   "source": [
    "Veja que mencionei nos comentários do código acima que o \"for usa o iterador padrão da string\". Vamos falar sobre iteradores mais abaixo, mas vamos focar nos iteráveis por agora. Veja uma lista (que também é um iterável):"
   ]
  },
  {
   "cell_type": "code",
   "execution_count": null,
   "metadata": {},
   "outputs": [],
   "source": [
    "# a lista é um iterável\n",
    "lista = ['Luiz', 'Maria', 'Joana']\n",
    " \n",
    "# o for usa o iterador padrão da lista para obter um item por vez\n",
    "for nome in lista:\n",
    "    print(nome)\n",
    " \n",
    "\"\"\"\n",
    "A saída será:\n",
    "Luiz\n",
    "Maria\n",
    "Joana\n",
    "\"\"\""
   ]
  },
  {
   "cell_type": "markdown",
   "metadata": {},
   "source": [
    "Resumindo:  um iterável é capaz de lhe entregar um elemento por vez a cada iteração.\n",
    "\n",
    "Iterador - Um objeto capaz de ler um item por vez de um iterável. Um iterador é capaz de \"puxar\" um elemento de um iterável e entregar este valor para seu código. O fato sobre os iteradores é mais complexo porque você ainda não aprendeu a criar \"iteradores\", você usa o \"for\" que usa um \"iterador\" padrão para obter um valor por vez de um iterável. Mas vamos aprender a fazer isso na aula sobre \"protocolos\" dos iteradores.\n",
    "\n",
    "Mas para resumir, quando você usa o for, o for \"pede\" para o seu iterável o objeto iterador dele. Esse objeto é capaz de capturar um elemento por vez do seu iterável para que o for possa fazer algo com ele.\n",
    "\n",
    "O que o for faz automaticamente é o que o código abaixo mostra (você não precisa entender isso ainda, vamos falar sobre isso lá na frente no curso)."
   ]
  },
  {
   "cell_type": "code",
   "execution_count": null,
   "metadata": {},
   "outputs": [],
   "source": [
    "# a lista é um iterável\n",
    "lista = ['Luiz', 'Maria', 'Joana']\n",
    "# Esse é o objeto iterador\n",
    "iterador_da_lista = iter(lista)\n",
    " \n",
    "# Aqui temos um loop infinito\n",
    "while True:\n",
    "    # Vamos pedir para o iterador o próximo item da lista\n",
    "    try:\n",
    "        item = next(iterador_da_lista)\n",
    "        print(item)\n",
    "    # Se não existir, esse erro irá ser levantado pelo iterador\n",
    "    # então podemos quebrar o laço com break\n",
    "    except StopIteration:\n",
    "        break\n",
    " \n",
    "\"\"\"\n",
    "A saída será:\n",
    "Luiz\n",
    "Maria\n",
    "Joana\n",
    "\"\"\""
   ]
  },
  {
   "cell_type": "markdown",
   "metadata": {},
   "source": [
    "Gerador - Um gerador é um tipo especial de iterador que trabalha um pouquinho diferente... Um gerador é uma função capaz de ser \"pausada\" a cada chamada do \"yield\". Quando essa função é executada, na primeira vez que o yield for chamado, ele entrega o valor e pausa a função ali. Na segunda vez que a função for chamada, o próximo yield será encarregado de entregar o valor (e assim vai até quando você quiser). Você pode criar uma função que retorna valores infinitos.\n",
    "\n",
    "Veja um exemplo simples onde eu quero executar 3 passos usando uma função geradora:"
   ]
  },
  {
   "cell_type": "code",
   "execution_count": null,
   "metadata": {},
   "outputs": [],
   "source": [
    "def funcao_geradora_finita():\n",
    "    # Executando o passo 1\n",
    "    yield 'passo 1'\n",
    "    # Executando o passo 2\n",
    "    yield 'passo 2'\n",
    "    # Executando o passo 3\n",
    "    yield 'passo 3'\n",
    " \n",
    " \n",
    "gerador_finito = funcao_geradora_finita()\n",
    " \n",
    "print(next(gerador_finito))  # Passo 1\n",
    "print(next(gerador_finito))  # Passo 2\n",
    "print(next(gerador_finito))  # Passo 3"
   ]
  },
  {
   "cell_type": "markdown",
   "metadata": {},
   "source": [
    "Como eu te disse, esse gerador pode ser infinito. Por exemplo:"
   ]
  },
  {
   "cell_type": "code",
   "execution_count": null,
   "metadata": {},
   "outputs": [],
   "source": [
    "def funcao_geradora_infinita():\n",
    "    inicial = 0\n",
    "    while True:\n",
    "        # Esse yield irá executar a cada chamada do next na função geradora\n",
    "        yield f'Passo {inicial}'\n",
    "        # Como o próximo yield só será executado na próxima chamada\n",
    "        # Essa soma só vai mudar o valor pra próxima chamada do next\n",
    "        inicial += 1\n",
    " \n",
    " \n",
    "gerador_finito = funcao_geradora_infinita()\n",
    " \n",
    "print(next(gerador_finito))  # Passo 0\n",
    "print(next(gerador_finito))  # Passo 1\n",
    "print(next(gerador_finito))  # Passo 2\n",
    "print(next(gerador_finito))  # Passo 3\n",
    "print(next(gerador_finito))  # Passo 4\n",
    "print(next(gerador_finito))  # Passo 5\n",
    "# Ao infinito e além"
   ]
  },
  {
   "cell_type": "markdown",
   "metadata": {},
   "source": [
    "É basicamente isso, não tem muito mais o que falar sobre iteráveis, iteradores e geradores."
   ]
  }
 ],
 "metadata": {
  "kernelspec": {
   "display_name": "Python 3.10.6 ('Ambiente_virtual': venv)",
   "language": "python",
   "name": "python3"
  },
  "language_info": {
   "name": "python",
   "version": "3.10.6"
  },
  "orig_nbformat": 4,
  "vscode": {
   "interpreter": {
    "hash": "d1e773d19359b22eb53447f788921de70c03b615d0d8e6f746ddf09bffcab7d8"
   }
  }
 },
 "nbformat": 4,
 "nbformat_minor": 2
}
